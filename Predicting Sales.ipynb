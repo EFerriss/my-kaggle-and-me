{
 "cells": [
  {
   "cell_type": "markdown",
   "metadata": {},
   "source": [
    "# In which Elizabeth learns something about forecasting\n",
    "\n",
    "Playing with Kaggle competition [on predicting future sales](https://www.kaggle.com/c/competitive-data-science-predict-future-sales).\n",
    "\n",
    "## Predicting Sales\n",
    "\n",
    "Goal: predict total sales for **every product** and **every store** in the test set for the next month. \n",
    "Evaluation metric: [RMSE](https://en.wikipedia.org/wiki/Root-mean-square_deviation)"
   ]
  },
  {
   "cell_type": "code",
   "execution_count": 6,
   "metadata": {
    "collapsed": false
   },
   "outputs": [],
   "source": [
    "%matplotlib inline\n",
    "import pandas as pd\n",
    "import numpy as np\n",
    "import matplotlib.pyplot as plt\n",
    "from timeit import default_timer as timer"
   ]
  },
  {
   "cell_type": "code",
   "execution_count": 7,
   "metadata": {
    "collapsed": false
   },
   "outputs": [
    {
     "data": {
      "text/html": [
       "<div>\n",
       "<style scoped>\n",
       "    .dataframe tbody tr th:only-of-type {\n",
       "        vertical-align: middle;\n",
       "    }\n",
       "\n",
       "    .dataframe tbody tr th {\n",
       "        vertical-align: top;\n",
       "    }\n",
       "\n",
       "    .dataframe thead th {\n",
       "        text-align: right;\n",
       "    }\n",
       "</style>\n",
       "<table border=\"1\" class=\"dataframe\">\n",
       "  <thead>\n",
       "    <tr style=\"text-align: right;\">\n",
       "      <th></th>\n",
       "      <th>date</th>\n",
       "      <th>date_block_num</th>\n",
       "      <th>shop_id</th>\n",
       "      <th>item_id</th>\n",
       "      <th>item_price</th>\n",
       "      <th>item_cnt_day</th>\n",
       "    </tr>\n",
       "  </thead>\n",
       "  <tbody>\n",
       "    <tr>\n",
       "      <th>0</th>\n",
       "      <td>02.01.2013</td>\n",
       "      <td>0</td>\n",
       "      <td>59</td>\n",
       "      <td>22154</td>\n",
       "      <td>999.00</td>\n",
       "      <td>1.0</td>\n",
       "    </tr>\n",
       "    <tr>\n",
       "      <th>1</th>\n",
       "      <td>03.01.2013</td>\n",
       "      <td>0</td>\n",
       "      <td>25</td>\n",
       "      <td>2552</td>\n",
       "      <td>899.00</td>\n",
       "      <td>1.0</td>\n",
       "    </tr>\n",
       "    <tr>\n",
       "      <th>2</th>\n",
       "      <td>05.01.2013</td>\n",
       "      <td>0</td>\n",
       "      <td>25</td>\n",
       "      <td>2552</td>\n",
       "      <td>899.00</td>\n",
       "      <td>-1.0</td>\n",
       "    </tr>\n",
       "    <tr>\n",
       "      <th>3</th>\n",
       "      <td>06.01.2013</td>\n",
       "      <td>0</td>\n",
       "      <td>25</td>\n",
       "      <td>2554</td>\n",
       "      <td>1709.05</td>\n",
       "      <td>1.0</td>\n",
       "    </tr>\n",
       "    <tr>\n",
       "      <th>4</th>\n",
       "      <td>15.01.2013</td>\n",
       "      <td>0</td>\n",
       "      <td>25</td>\n",
       "      <td>2555</td>\n",
       "      <td>1099.00</td>\n",
       "      <td>1.0</td>\n",
       "    </tr>\n",
       "  </tbody>\n",
       "</table>\n",
       "</div>"
      ],
      "text/plain": [
       "         date  date_block_num  shop_id  item_id  item_price  item_cnt_day\n",
       "0  02.01.2013               0       59    22154      999.00           1.0\n",
       "1  03.01.2013               0       25     2552      899.00           1.0\n",
       "2  05.01.2013               0       25     2552      899.00          -1.0\n",
       "3  06.01.2013               0       25     2554     1709.05           1.0\n",
       "4  15.01.2013               0       25     2555     1099.00           1.0"
      ]
     },
     "execution_count": 7,
     "metadata": {},
     "output_type": "execute_result"
    }
   ],
   "source": [
    "train = pd.read_csv('sales_train_v2.csv')\n",
    "train.head()"
   ]
  },
  {
   "cell_type": "code",
   "execution_count": 8,
   "metadata": {
    "collapsed": false
   },
   "outputs": [
    {
     "name": "stdout",
     "output_type": "stream",
     "text": [
      "21807 unique items were purchased at 60 unique shops over 34 months.\n"
     ]
    }
   ],
   "source": [
    "print(len(train.item_id.unique()), 'unique items were purchased at', len(train.shop_id.unique()), 'unique shops over', \\\n",
    "      len(train.date_block_num.unique()), 'months.')\n",
    "\n",
    "dfg = train.groupby(['shop_id', 'item_id'])"
   ]
  },
  {
   "cell_type": "code",
   "execution_count": 9,
   "metadata": {
    "collapsed": false
   },
   "outputs": [],
   "source": [
    "def sum_items_sold_each_month(shop_id, item_id):\n",
    "    try:\n",
    "        df = dfg.get_group((shop_id, item_id))\n",
    "    except KeyError:\n",
    "        return [0]*34\n",
    "    \n",
    "    dfs = df.groupby(\"date_block_num\").sum()\n",
    "    \n",
    "    if len(dfs.item_cnt_day) < 34:\n",
    "        y = []\n",
    "        for x in range(34):\n",
    "            try: \n",
    "                y.append(dfs.loc[x].item_cnt_day)\n",
    "            except KeyError:\n",
    "                y.append(0)\n",
    "        return y\n",
    "    return dfs.item_cnt_day.values\n",
    "\n",
    "\n",
    "def plot_items_sold_each_month(shop, item):\n",
    "    y = sum_items_sold_each_month(shop, item)\n",
    "    fig = plt.figure()\n",
    "    plt.plot(range(34), y, 'o-')\n",
    "    plt.xlabel('month')\n",
    "    plt.ylabel('total items sold')\n",
    "    plt.title(' '.join(('Item', str(item), 'sold at Shop', str(shop), 'over time')))\n",
    "    return fig, plt.gca()\n",
    "\n",
    "\n",
    "def plot_prediction(shop, item, predicted_val, label='predicted'):\n",
    "    fig, ax = plot_items_sold_each_month(shop, item)\n",
    "    ax.plot(34, predicted_val, 'or', label=label)\n",
    "    ax.set_xlim(0, 35)\n",
    "    ax.legend()\n",
    "    \n",
    "\n",
    "def prediction_equals_last_month_average(shop, item):\n",
    "    \"\"\" Submission #1, RMSE = 1.21476 \"\"\"\n",
    "    try:\n",
    "        df = dfg.get_group((shop, item))\n",
    "    except KeyError:\n",
    "        return 0\n",
    "    \n",
    "    df = df[df.date_block_num == 33]\n",
    "    ave = df.item_cnt_day.mean()\n",
    "    if np.isnan(ave):\n",
    "        return 0\n",
    "    return ave\n",
    "    \n",
    "    \n",
    "def prediction_equals_last_month_total(shop, item):\n",
    "    \"\"\" Submission #2, RMSE = 8.53027 \"\"\"\n",
    "    return sum_items_sold_each_month(shop, item)[-1]\n",
    "\n",
    "\n",
    "def prediction_equals_nmonth_average(shop, item, n_months):\n",
    "    \"\"\" Submission #3, n_months=5, RMSE = 2.86279 \"\"\"\n",
    "    return np.mean(sum_items_sold_each_month(shop, item)[-n_months:])"
   ]
  },
  {
   "cell_type": "code",
   "execution_count": 10,
   "metadata": {
    "collapsed": false
   },
   "outputs": [
    {
     "data": {
      "text/plain": [
       "595.4"
      ]
     },
     "execution_count": 10,
     "metadata": {},
     "output_type": "execute_result"
    },
    {
     "data": {
      "image/png": "[encoded data removed]",
      "text/plain": [
       "<Figure size 432x288 with 1 Axes>"
      ]
     },
     "metadata": {},
     "output_type": "display_data"
    }
   ],
   "source": [
    "shop = 12\n",
    "\n",
    "item = 30\n",
    "item = 0\n",
    "item = 11373 \n",
    "\n",
    "pred = prediction_equals_nmonth_average(shop, item, 5)\n",
    "plot_prediction(shop, item, pred)\n",
    "pred"
   ]
  },
  {
   "cell_type": "code",
   "execution_count": 11,
   "metadata": {
    "collapsed": false
   },
   "outputs": [
    {
     "data": {
      "text/plain": [
       "214200"
      ]
     },
     "execution_count": 11,
     "metadata": {},
     "output_type": "execute_result"
    }
   ],
   "source": [
    "test = pd.read_csv('test.csv')\n",
    "len(test)"
   ]
  },
  {
   "cell_type": "code",
   "execution_count": 12,
   "metadata": {
    "collapsed": false
   },
   "outputs": [],
   "source": [
    "# Keywords are broken for first two submissions.\n",
    "def make_predictions(prediction_function, filename='submission.csv', n_months=5):\n",
    "    shops = test.shop_id.values\n",
    "    items = test.item_id.values\n",
    "    IDs = test.ID.values\n",
    "    output = 'ID,item_cnt_month'\n",
    "\n",
    "    for shop, item, ID in zip(shops, items, IDs):\n",
    "        line = ','.join((str(ID), str(prediction_function(shop=shop, item=item, n_months=n_months))))\n",
    "        output = '\\n'.join((output, line))\n",
    "        \n",
    "    with open(filename, \"w\") as f:\n",
    "        f.write(output)"
   ]
  },
  {
   "cell_type": "code",
   "execution_count": 13,
   "metadata": {
    "collapsed": false
   },
   "outputs": [
    {
     "name": "stdout",
     "output_type": "stream",
     "text": [
      "-14.587603831424834 minutes\n"
     ]
    }
   ],
   "source": [
    "start = timer()\n",
    "make_predictions(prediction_function=prediction_equals_nmonth_average, \n",
    "                 filename='submission03_rollingave_5months.csv', n_months=5)\n",
    "end = timer()\n",
    "print((start-end)/60, 'minutes')"
   ]
  },
  {
   "cell_type": "code",
   "execution_count": null,
   "metadata": {
    "collapsed": true
   },
   "outputs": [],
   "source": []
  }
 ],
 "metadata": {
  "kernelspec": {
   "display_name": "Python 3",
   "language": "python",
   "name": "python3"
  },
  "language_info": {
   "codemirror_mode": {
    "name": "ipython",
    "version": 3
   },
   "file_extension": ".py",
   "mimetype": "text/x-python",
   "name": "python",
   "nbconvert_exporter": "python",
   "pygments_lexer": "ipython3",
   "version": "3.6.4"
  }
 },
 "nbformat": 4,
 "nbformat_minor": 1
}
