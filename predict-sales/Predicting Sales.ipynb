{
 "cells": [
  {
   "cell_type": "markdown",
   "metadata": {},
   "source": [
    "# In which Elizabeth learns something about forecasting\n",
    "\n",
    "Playing with Kaggle competition [on predicting future sales](https://www.kaggle.com/c/competitive-data-science-predict-future-sales).\n",
    "\n",
    "## Predicting Sales\n",
    "\n",
    "Goal: predict total sales for **every product** and **every store** in the test set for the next month. \n",
    "Evaluation metric: [RMSE](https://en.wikipedia.org/wiki/Root-mean-square_deviation)"
   ]
  },
  {
   "cell_type": "code",
   "execution_count": 1,
   "metadata": {},
   "outputs": [],
   "source": [
    "%matplotlib inline\n",
    "import pandas as pd\n",
    "import numpy as np\n",
    "import matplotlib.pyplot as plt\n",
    "from timeit import default_timer as timer"
   ]
  },
  {
   "cell_type": "code",
   "execution_count": 43,
   "metadata": {},
   "outputs": [
    {
     "data": {
      "text/html": [
       "<div>\n",
       "<style scoped>\n",
       "    .dataframe tbody tr th:only-of-type {\n",
       "        vertical-align: middle;\n",
       "    }\n",
       "\n",
       "    .dataframe tbody tr th {\n",
       "        vertical-align: top;\n",
       "    }\n",
       "\n",
       "    .dataframe thead th {\n",
       "        text-align: right;\n",
       "    }\n",
       "</style>\n",
       "<table border=\"1\" class=\"dataframe\">\n",
       "  <thead>\n",
       "    <tr style=\"text-align: right;\">\n",
       "      <th></th>\n",
       "      <th>date</th>\n",
       "      <th>date_block_num</th>\n",
       "      <th>shop_id</th>\n",
       "      <th>item_id</th>\n",
       "      <th>item_price</th>\n",
       "      <th>item_cnt_day</th>\n",
       "    </tr>\n",
       "  </thead>\n",
       "  <tbody>\n",
       "    <tr>\n",
       "      <th>2915898</th>\n",
       "      <td>2015-12-10</td>\n",
       "      <td>33</td>\n",
       "      <td>6</td>\n",
       "      <td>7390</td>\n",
       "      <td>349.0</td>\n",
       "      <td>1.0</td>\n",
       "    </tr>\n",
       "    <tr>\n",
       "      <th>2915896</th>\n",
       "      <td>2015-12-10</td>\n",
       "      <td>33</td>\n",
       "      <td>6</td>\n",
       "      <td>7350</td>\n",
       "      <td>349.0</td>\n",
       "      <td>1.0</td>\n",
       "    </tr>\n",
       "    <tr>\n",
       "      <th>2922604</th>\n",
       "      <td>2015-12-10</td>\n",
       "      <td>33</td>\n",
       "      <td>28</td>\n",
       "      <td>10304</td>\n",
       "      <td>199.0</td>\n",
       "      <td>1.0</td>\n",
       "    </tr>\n",
       "    <tr>\n",
       "      <th>2915871</th>\n",
       "      <td>2015-12-10</td>\n",
       "      <td>33</td>\n",
       "      <td>6</td>\n",
       "      <td>6798</td>\n",
       "      <td>1849.0</td>\n",
       "      <td>1.0</td>\n",
       "    </tr>\n",
       "    <tr>\n",
       "      <th>2898514</th>\n",
       "      <td>2015-12-10</td>\n",
       "      <td>33</td>\n",
       "      <td>58</td>\n",
       "      <td>10207</td>\n",
       "      <td>1199.0</td>\n",
       "      <td>1.0</td>\n",
       "    </tr>\n",
       "  </tbody>\n",
       "</table>\n",
       "</div>"
      ],
      "text/plain": [
       "              date  date_block_num  shop_id  item_id  item_price  item_cnt_day\n",
       "2915898 2015-12-10              33        6     7390       349.0           1.0\n",
       "2915896 2015-12-10              33        6     7350       349.0           1.0\n",
       "2922604 2015-12-10              33       28    10304       199.0           1.0\n",
       "2915871 2015-12-10              33        6     6798      1849.0           1.0\n",
       "2898514 2015-12-10              33       58    10207      1199.0           1.0"
      ]
     },
     "execution_count": 43,
     "metadata": {},
     "output_type": "execute_result"
    }
   ],
   "source": [
    "train = pd.read_csv('sales_train_v2.csv')\n",
    "train[\"date\"] = pd.to_datetime(train.date)\n",
    "train = train.sort_values(by='date')\n",
    "train.tail()"
   ]
  },
  {
   "cell_type": "code",
   "execution_count": 44,
   "metadata": {},
   "outputs": [
    {
     "data": {
      "text/html": [
       "<div>\n",
       "<style scoped>\n",
       "    .dataframe tbody tr th:only-of-type {\n",
       "        vertical-align: middle;\n",
       "    }\n",
       "\n",
       "    .dataframe tbody tr th {\n",
       "        vertical-align: top;\n",
       "    }\n",
       "\n",
       "    .dataframe thead th {\n",
       "        text-align: right;\n",
       "    }\n",
       "</style>\n",
       "<table border=\"1\" class=\"dataframe\">\n",
       "  <thead>\n",
       "    <tr style=\"text-align: right;\">\n",
       "      <th></th>\n",
       "      <th>date</th>\n",
       "      <th>date_block_num</th>\n",
       "      <th>shop_id</th>\n",
       "      <th>item_id</th>\n",
       "      <th>item_price</th>\n",
       "      <th>item_cnt_day</th>\n",
       "    </tr>\n",
       "  </thead>\n",
       "  <tbody>\n",
       "    <tr>\n",
       "      <th>109593</th>\n",
       "      <td>2013-01-01</td>\n",
       "      <td>0</td>\n",
       "      <td>46</td>\n",
       "      <td>18616</td>\n",
       "      <td>349.0</td>\n",
       "      <td>1.0</td>\n",
       "    </tr>\n",
       "    <tr>\n",
       "      <th>85162</th>\n",
       "      <td>2013-01-01</td>\n",
       "      <td>0</td>\n",
       "      <td>54</td>\n",
       "      <td>11854</td>\n",
       "      <td>199.0</td>\n",
       "      <td>1.0</td>\n",
       "    </tr>\n",
       "    <tr>\n",
       "      <th>18128</th>\n",
       "      <td>2013-01-01</td>\n",
       "      <td>0</td>\n",
       "      <td>28</td>\n",
       "      <td>4906</td>\n",
       "      <td>1799.0</td>\n",
       "      <td>1.0</td>\n",
       "    </tr>\n",
       "    <tr>\n",
       "      <th>112216</th>\n",
       "      <td>2013-01-01</td>\n",
       "      <td>0</td>\n",
       "      <td>42</td>\n",
       "      <td>2931</td>\n",
       "      <td>99.0</td>\n",
       "      <td>1.0</td>\n",
       "    </tr>\n",
       "    <tr>\n",
       "      <th>85141</th>\n",
       "      <td>2013-01-01</td>\n",
       "      <td>0</td>\n",
       "      <td>54</td>\n",
       "      <td>11604</td>\n",
       "      <td>349.0</td>\n",
       "      <td>1.0</td>\n",
       "    </tr>\n",
       "  </tbody>\n",
       "</table>\n",
       "</div>"
      ],
      "text/plain": [
       "             date  date_block_num  shop_id  item_id  item_price  item_cnt_day\n",
       "109593 2013-01-01               0       46    18616       349.0           1.0\n",
       "85162  2013-01-01               0       54    11854       199.0           1.0\n",
       "18128  2013-01-01               0       28     4906      1799.0           1.0\n",
       "112216 2013-01-01               0       42     2931        99.0           1.0\n",
       "85141  2013-01-01               0       54    11604       349.0           1.0"
      ]
     },
     "execution_count": 44,
     "metadata": {},
     "output_type": "execute_result"
    }
   ],
   "source": [
    "train.head()"
   ]
  },
  {
   "cell_type": "code",
   "execution_count": 45,
   "metadata": {},
   "outputs": [
    {
     "name": "stdout",
     "output_type": "stream",
     "text": [
      "21807 unique items were purchased at 60 unique shops over 34 months.\n"
     ]
    }
   ],
   "source": [
    "print(len(train.item_id.unique()), 'unique items were purchased at', len(train.shop_id.unique()), 'unique shops over', \\\n",
    "      len(train.date_block_num.unique()), 'months.')\n",
    "\n",
    "dfg = train.groupby(['shop_id', 'item_id'])"
   ]
  },
  {
   "cell_type": "code",
   "execution_count": 46,
   "metadata": {},
   "outputs": [],
   "source": [
    "def sum_items_sold_each_month(shop_id, item_id):\n",
    "    try:\n",
    "        df = dfg.get_group((shop_id, item_id))\n",
    "    except KeyError:\n",
    "        return [0]*34\n",
    "    \n",
    "    dfs = df.groupby(\"date_block_num\").sum()\n",
    "    \n",
    "    if len(dfs.item_cnt_day) < 34:\n",
    "        y = []\n",
    "        for x in range(34):\n",
    "            try: \n",
    "                y.append(dfs.loc[x].item_cnt_day)\n",
    "            except KeyError:\n",
    "                y.append(0)\n",
    "        return y\n",
    "    return dfs.item_cnt_day.values\n",
    "\n",
    "\n",
    "def plot_items_sold_each_month(shop, item):\n",
    "    y = sum_items_sold_each_month(shop, item)\n",
    "    fig = plt.figure()\n",
    "    plt.plot(range(34), y, 'o-', label='historical data')\n",
    "    plt.xlabel('month')\n",
    "    plt.ylabel('total items sold')\n",
    "    plt.title(' '.join(('Item', str(item), 'sold at Shop', str(shop), 'over time')))\n",
    "    return fig, plt.gca()\n",
    "\n",
    "\n",
    "def plot_prediction(shop, item, predicted_val, label='predicted'):\n",
    "    fig, ax = plot_items_sold_each_month(shop, item)\n",
    "    ax.plot(34, predicted_val, 'or', label=label)\n",
    "    ax.set_xlim(0, 35)\n",
    "    ax.legend()\n",
    "    \n",
    "\n",
    "def plot_highlighted_months(shop, item, x=[10, 22], label='previous November data'):\n",
    "    \"\"\" Default months to plot x=[10, 22], the two previous Novembers \"\"\"\n",
    "    y = [sum_items_sold_each_month(shop, item)[i] for i in x]\n",
    "    plt.plot(x, y, 'ok', markerfacecolor='r', label=label)\n",
    "    plt.legend()\n",
    "    \n",
    "\n",
    "def prediction_equals_last_month_average(shop, item):\n",
    "    \"\"\" Submission #1, RMSE = 1.21476 \"\"\"\n",
    "    try:\n",
    "        df = dfg.get_group((shop, item))\n",
    "    except KeyError:\n",
    "        return 0\n",
    "    \n",
    "    df = df[df.date_block_num == 33]\n",
    "    ave = df.item_cnt_day.mean()\n",
    "    if np.isnan(ave):\n",
    "        return 0\n",
    "    return ave\n",
    "    \n",
    "    \n",
    "def prediction_equals_last_month_total(shop, item):\n",
    "    \"\"\" Submission #2, RMSE = 8.53027 \"\"\"\n",
    "    return sum_items_sold_each_month(shop, item)[-1]\n",
    "\n",
    "\n",
    "def prediction_equals_nmonth_average(shop, item, n_months):\n",
    "    \"\"\" Submission #3, n_months=5, RMSE = 2.86279 \"\"\"\n",
    "    return np.mean(sum_items_sold_each_month(shop, item)[-n_months:])\n",
    "\n",
    "\n",
    "def prediction_equals_last_November(shop, item):\n",
    "    \"\"\" Submission #4, RMSE = 3.77216 \"\"\"\n",
    "    return sum_items_sold_each_month(shop, item)[22]\n",
    "\n",
    "\n",
    "def prediction_November_average(shop, item):\n",
    "    \"\"\" Submission #5, RMSE = 3.14800 \"\"\"\n",
    "    return np.mean([sum_items_sold_each_month(shop, item)[i] for i in [10, 22]])\n"
   ]
  },
  {
   "cell_type": "code",
   "execution_count": 47,
   "metadata": {},
   "outputs": [
    {
     "data": {
      "image/png": "[encoded data removed]",
      "text/plain": [
       "<Figure size 432x288 with 1 Axes>"
      ]
     },
     "metadata": {},
     "output_type": "display_data"
    }
   ],
   "source": [
    "shop = 12\n",
    "# item = 30\n",
    "# item = 0\n",
    "item = 11373 \n",
    "    \n",
    "pred = prediction_November_average(shop, item)\n",
    "plot_prediction(shop, item, pred)\n",
    "plot_highlighted_months(shop, item)"
   ]
  },
  {
   "cell_type": "code",
   "execution_count": 107,
   "metadata": {},
   "outputs": [
    {
     "data": {
      "text/html": [
       "<div>\n",
       "<style scoped>\n",
       "    .dataframe tbody tr th:only-of-type {\n",
       "        vertical-align: middle;\n",
       "    }\n",
       "\n",
       "    .dataframe tbody tr th {\n",
       "        vertical-align: top;\n",
       "    }\n",
       "\n",
       "    .dataframe thead th {\n",
       "        text-align: right;\n",
       "    }\n",
       "</style>\n",
       "<table border=\"1\" class=\"dataframe\">\n",
       "  <thead>\n",
       "    <tr style=\"text-align: right;\">\n",
       "      <th></th>\n",
       "      <th>date</th>\n",
       "      <th>date_block_num</th>\n",
       "      <th>shop_id</th>\n",
       "      <th>item_id</th>\n",
       "      <th>item_price</th>\n",
       "      <th>item_cnt_day</th>\n",
       "    </tr>\n",
       "  </thead>\n",
       "  <tbody>\n",
       "    <tr>\n",
       "      <th>2608040</th>\n",
       "      <td>14.04.2015</td>\n",
       "      <td>27</td>\n",
       "      <td>12</td>\n",
       "      <td>3731</td>\n",
       "      <td>1904.548077</td>\n",
       "      <td>624.0</td>\n",
       "    </tr>\n",
       "  </tbody>\n",
       "</table>\n",
       "</div>"
      ],
      "text/plain": [
       "               date  date_block_num  shop_id  item_id   item_price  \\\n",
       "2608040  14.04.2015              27       12     3731  1904.548077   \n",
       "\n",
       "         item_cnt_day  \n",
       "2608040         624.0  "
      ]
     },
     "execution_count": 107,
     "metadata": {},
     "output_type": "execute_result"
    }
   ],
   "source": [
    "# looking for examples with lots of sales\n",
    "train[train.item_cnt_day == np.sort(train.item_cnt_day)[-5]]"
   ]
  },
  {
   "cell_type": "markdown",
   "metadata": {},
   "source": [
    "## Preparing the submission\n",
    "How to make this faster?"
   ]
  },
  {
   "cell_type": "code",
   "execution_count": 29,
   "metadata": {},
   "outputs": [
    {
     "data": {
      "text/plain": [
       "214200"
      ]
     },
     "execution_count": 29,
     "metadata": {},
     "output_type": "execute_result"
    }
   ],
   "source": [
    "test = pd.read_csv('test.csv')\n",
    "len(test)"
   ]
  },
  {
   "cell_type": "code",
   "execution_count": 28,
   "metadata": {},
   "outputs": [],
   "source": [
    "def make_predictions(prediction_function, filename='submission.csv', n_months=5):\n",
    "    shops = test.shop_id.values\n",
    "    items = test.item_id.values\n",
    "    IDs = test.ID.values\n",
    "    output = 'ID,item_cnt_month'\n",
    "\n",
    "    for shop, item, ID in zip(shops, items, IDs):\n",
    "        line = ','.join((str(ID), str(prediction_function(shop=shop, item=item))))#, n_months=n_months))))\n",
    "        output = '\\n'.join((output, line))\n",
    "        \n",
    "    with open(filename, \"w\") as f:\n",
    "        f.write(output)"
   ]
  },
  {
   "cell_type": "code",
   "execution_count": 111,
   "metadata": {},
   "outputs": [
    {
     "name": "stdout",
     "output_type": "stream",
     "text": [
      "Finished in 26.3 minutes\n"
     ]
    }
   ],
   "source": [
    "start = timer()\n",
    "make_predictions(prediction_function=prediction_November_average, \n",
    "                 filename='submission05_November_average.csv')\n",
    "end = timer()\n",
    "\n",
    "print('Finished in {:.1f} minutes'.format((end-start)/60))"
   ]
  },
  {
   "cell_type": "code",
   "execution_count": null,
   "metadata": {
    "collapsed": true
   },
   "outputs": [],
   "source": []
  }
 ],
 "metadata": {
  "kernelspec": {
   "display_name": "Python 3",
   "language": "python",
   "name": "python3"
  },
  "language_info": {
   "codemirror_mode": {
    "name": "ipython",
    "version": 3
   },
   "file_extension": ".py",
   "mimetype": "text/x-python",
   "name": "python",
   "nbconvert_exporter": "python",
   "pygments_lexer": "ipython3",
   "version": "3.6.6"
  }
 },
 "nbformat": 4,
 "nbformat_minor": 1
}
